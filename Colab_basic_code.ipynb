{
  "nbformat": 4,
  "nbformat_minor": 0,
  "metadata": {
    "colab": {
      "name": "Colab_basic_code",
      "provenance": [],
      "collapsed_sections": [],
      "authorship_tag": "ABX9TyObZmo87BtECL+O52R9ZGaE",
      "include_colab_link": true
    },
    "kernelspec": {
      "name": "python3",
      "display_name": "Python 3"
    }
  },
  "cells": [
    {
      "cell_type": "markdown",
      "metadata": {
        "id": "view-in-github",
        "colab_type": "text"
      },
      "source": [
        "<a href=\"https://colab.research.google.com/github/ryol8888/efficientnet_pytorch/blob/master/Colab_basic_code.ipynb\" target=\"_parent\"><img src=\"https://colab.research.google.com/assets/colab-badge.svg\" alt=\"Open In Colab\"/></a>"
      ]
    },
    {
      "cell_type": "code",
      "metadata": {
        "id": "gZNb7LRB1P0S",
        "outputId": "db4daff1-3c40-4ab4-b6a1-a0cbefe452ac",
        "colab": {
          "base_uri": "https://localhost:8080/",
          "height": 279
        }
      },
      "source": [
        "#Check OS, kernel version\n",
        "!lsb_release -a\n",
        "!uname -r\n",
        "print(\"start git clone repo!\")\n",
        "# git repo synchro ;  \n",
        "!git clone https://github.com/ryol8888/efficientnet_pytorch.git # please check git repo\n",
        "\n",
        "print(\"set your git config!\")\n",
        "!git config --global user.email \"ryol8888@naver.com\"; git config --global user.name \"DrLee\";\n",
        "\n",
        "print(\"start git clone repo!\")\n",
        "!git remote add origin https://github.com/ryol8888/efficientnet_pytorch.git # please check git repo\n",
        "# cd folder & set upstream url\n",
        "print(\"check upstream url!\")\n",
        "!cd efficientnet_pytorch ; git remote -v  # please check git repo"
      ],
      "execution_count": 1,
      "outputs": [
        {
          "output_type": "stream",
          "text": [
            "No LSB modules are available.\n",
            "Distributor ID:\tUbuntu\n",
            "Description:\tUbuntu 18.04.5 LTS\n",
            "Release:\t18.04\n",
            "Codename:\tbionic\n",
            "4.19.112+\n",
            "Cloning into 'efficientnet_pytorch'...\n",
            "remote: Enumerating objects: 9, done.\u001b[K\n",
            "remote: Counting objects: 100% (9/9), done.\u001b[K\n",
            "remote: Compressing objects: 100% (7/7), done.\u001b[K\n",
            "remote: Total 9 (delta 0), reused 0 (delta 0), pack-reused 0\u001b[K\n",
            "Unpacking objects: 100% (9/9), done.\n",
            "fatal: not a git repository (or any of the parent directories): .git\n",
            "fatal: could not read Username for 'https://github.com': No such device or address\n"
          ],
          "name": "stdout"
        }
      ]
    },
    {
      "cell_type": "code",
      "metadata": {
        "id": "KkDjx1mW16Fk",
        "outputId": "d2fed3e8-2f25-4b85-da4a-e77cd7135b58",
        "colab": {
          "base_uri": "https://localhost:8080/",
          "height": 73
        }
      },
      "source": [
        "import torch, torchvision, sys\n",
        "\n",
        "print(\"You are using Pytorch {}.\" .format(torch.__version__))\n",
        "print(\"You are using Torchvision {}.\" .format(torchvision.__version__))\n",
        "print(\"You are using Python {}.{}.\".format(sys.version_info.major, sys.version_info.minor))"
      ],
      "execution_count": null,
      "outputs": [
        {
          "output_type": "stream",
          "text": [
            "You are using Pytorch 1.6.0+cu101.\n",
            "You are using Torchvision 0.7.0+cu101.\n",
            "You are using Python 3.6.\n"
          ],
          "name": "stdout"
        }
      ]
    }
  ]
}